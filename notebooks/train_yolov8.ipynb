{
  "nbformat": 4,
  "nbformat_minor": 0,
  "metadata": {
    "colab": {
      "provenance": []
    },
    "kernelspec": {
      "name": "python3",
      "display_name": "Python 3"
    },
    "language_info": {
      "name": "python"
    }
  },
  "cells": [
    {
      "cell_type": "code",
      "execution_count": null,
      "metadata": {
        "id": "nNr5OUBiyVj3"
      },
      "outputs": [],
      "source": [
        "!pip install ultralytics"
      ]
    },
    {
      "cell_type": "code",
      "source": [
        "# 📦 Import necessary libraries\n",
        "import torch\n",
        "import os\n",
        "import shutil\n",
        "from google.colab import drive\n",
        "from ultralytics import YOLO\n",
        "\n",
        "# ⚙️ Check for GPU availability\n",
        "device = \"cuda\" if torch.cuda.is_available() else \"cpu\"\n",
        "print(f\"✅ Device in use: {device}\")\n",
        "\n"
      ],
      "metadata": {
        "id": "0GFICZFhyXPR"
      },
      "execution_count": null,
      "outputs": []
    },
    {
      "cell_type": "code",
      "source": [
        "# 📂 Mount Google Drive\n",
        "drive.mount('/content/drive')\n",
        "\n"
      ],
      "metadata": {
        "id": "Go0QpLo0yZ-m"
      },
      "execution_count": null,
      "outputs": []
    },
    {
      "cell_type": "code",
      "source": [
        "from ultralytics import YOLO\n",
        "\n",
        "# Load the model\n",
        "model = YOLO('yolov8n.pt')\n",
        "\n",
        "# Start the training process\n",
        "model.train(\n",
        "    data='/content/drive/MyDrive/yoloegitmi/data.yaml',\n",
        "    epochs=1500,\n",
        "    imgsz=640,\n",
        "    batch=16,\n",
        "    device=0  # Use GPU, for CPU use 'cpu'\n",
        ")\n"
      ],
      "metadata": {
        "id": "eRlmJxmMycrU"
      },
      "execution_count": null,
      "outputs": []
    }
  ]
}